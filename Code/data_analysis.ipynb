{
 "cells": [
  {
   "cell_type": "code",
   "execution_count": null,
   "id": "6107ed67",
   "metadata": {},
   "outputs": [],
   "source": [
    "import pandas as pd\n",
    "import ast\n",
    "from scipy.special import softmax\n",
    "import matplotlib.pyplot as plt\n",
    "import warnings\n",
    "warnings.filterwarnings('ignore')\n",
    "\n",
    "model_names = [\"LLaMA3.2-1B\", \"LLaMA3.2-3B\", \"Qwen2.5-1.5B\", \"Qwen2.5-3B\"]\n",
    "\n",
    "info_df = pd.read_csv(\"Data Files/results.csv\")\n",
    "outputs_df = pd.read_csv(\"Data Files/results-output.csv\")"
   ]
  },
  {
   "cell_type": "code",
   "execution_count": null,
   "id": "c9819aad",
   "metadata": {},
   "outputs": [],
   "source": [
    "results_df = pd.concat([info_df, outputs_df], axis=1)\n",
    "results_df.to_csv('Data Files/complete_results.csv', index=None)"
   ]
  },
  {
   "cell_type": "code",
   "execution_count": null,
   "id": "54af58f1",
   "metadata": {},
   "outputs": [],
   "source": [
    "for name in model_names:\n",
    "    results_df[f'{name}_context_weights'] = results_df[f'{name}_context_weights'].apply(ast.literal_eval)\n",
    "    results_df[f'{name}_question_weights'] = results_df[f'{name}_question_weights'].apply(ast.literal_eval)\n",
    "    results_df[f'{name}_context_ave'] = results_df[f'{name}_context_ave'].apply(ast.literal_eval)\n",
    "    results_df[f'{name}_question_ave'] = results_df[f'{name}_question_ave'].apply(ast.literal_eval)\n",
    "    results_df[f'{name}_total_ave'] = results_df[f'{name}_total_ave'].apply(ast.literal_eval)"
   ]
  },
  {
   "cell_type": "code",
   "execution_count": null,
   "id": "5cc7cdf1",
   "metadata": {},
   "outputs": [],
   "source": [
    "from sklearn.preprocessing import StandardScaler\n",
    "import numpy as np\n",
    "from sklearn.metrics.pairwise import cosine_similarity\n",
    "from scipy.special import softmax\n",
    "\n",
    "def softmax_transform(data):\n",
    "    return np.array(softmax(data), dtype='float32').reshape(1, -1)\n",
    "\n",
    "def get_similarity(llm_attn, human_attn):\n",
    "    normalized_llm = np.array(llm_attn, dtype='float32').reshape(1, -1)\n",
    "    normalized_human = softmax_transform(human_attn)\n",
    "    return cosine_similarity(normalized_llm, normalized_human)[0][0]"
   ]
  },
  {
   "cell_type": "code",
   "execution_count": null,
   "id": "63dc4d15",
   "metadata": {},
   "outputs": [],
   "source": [
    "for name in model_names:\n",
    "    results_df[f'{name}_context_similarity'] = results_df.apply(lambda row: get_similarity(row[f'{name}_context_ave'], row[f'{name}_context_weights']), axis=1)\n",
    "    results_df[f'{name}_question_similarity'] = results_df.apply(lambda row: get_similarity(row[f'{name}_question_ave'], row[f'{name}_question_weights']), axis=1)\n",
    "    results_df[f'{name}_context_length'] = results_df['context'].apply(lambda x: len(x))\n",
    "    results_df[f'{name}_question_length'] = results_df['question'].apply(lambda x: len(x))"
   ]
  },
  {
   "cell_type": "code",
   "execution_count": null,
   "id": "4250390a",
   "metadata": {},
   "outputs": [],
   "source": [
    "context_corrs = [0, 0, 0, 0]\n",
    "question_corrs = [0, 0, 0, 0]\n",
    "\n",
    "for i in range(len(model_names)):\n",
    "    name = model_names[i]\n",
    "    context_corrs[i] = results_df[f'{name}_context_similarity'].corr(results_df[f'{name}_context_length'])\n",
    "    question_corrs[i] = results_df[f'{name}_question_similarity'].corr(results_df[f'{name}_question_length'])"
   ]
  },
  {
   "cell_type": "code",
   "execution_count": null,
   "id": "7a890278",
   "metadata": {},
   "outputs": [],
   "source": [
    "# Get similarity average for all models\n",
    "similarities = [0, 0, 0, 0]\n",
    "for i in range(len(model_names)):\n",
    "    name = model_names[i]\n",
    "    similarities[i] = (results_df[f'{name}_context_similarity'].mean(), results_df[f'{name}_question_similarity'].mean())\n",
    "    print(similarities[i])"
   ]
  },
  {
   "cell_type": "code",
   "execution_count": null,
   "id": "3a5949d7",
   "metadata": {},
   "outputs": [],
   "source": [
    "cols = []\n",
    "labels = []\n",
    "for name in model_names:\n",
    "    cols.append(f'{name}_context_similarity')\n",
    "    labels.append(name)\n",
    "\n",
    "plot = results_df.boxplot(column=cols)\n",
    "plot.set_xticklabels(labels)\n",
    "plt.title('Context Attention Cosine Similarity Scores between LLMs and Humans')\n",
    "plt.show()"
   ]
  },
  {
   "cell_type": "code",
   "execution_count": null,
   "id": "12eeeb3f",
   "metadata": {},
   "outputs": [],
   "source": [
    "cols = []\n",
    "labels = []\n",
    "for name in model_names:\n",
    "    cols.append(f'{name}_question_similarity')\n",
    "    labels.append(name)\n",
    "\n",
    "plot = results_df.boxplot(column=cols)\n",
    "plot.set_xticklabels(labels)\n",
    "plt.title('Question Attention Cosine Similarity Scores between LLMs and Humans')\n",
    "plt.show()"
   ]
  },
  {
   "cell_type": "code",
   "execution_count": null,
   "id": "3705edad",
   "metadata": {},
   "outputs": [],
   "source": [
    "# Get all grouped types\n",
    "types = [0, 0, 0, 0]\n",
    "for i in range(4):\n",
    "    types[i] = results_df[results_df['type'] == i]"
   ]
  },
  {
   "cell_type": "code",
   "execution_count": null,
   "id": "9028e1c8",
   "metadata": {},
   "outputs": [],
   "source": [
    "# Get average attention and similarity to humans on context and question for all types for each model\n",
    "type_data = [pd.DataFrame() for _ in range(4)]\n",
    "\n",
    "for i in range(4):\n",
    "    for name in model_names:\n",
    "        type_data[i][f'{name}_context_attention_{i}'] = types[i].apply(lambda row: sum(row[f'{name}_context_ave']) / sum(row[f'{name}_total_ave']), axis=1)\n",
    "        type_data[i][f'{name}_question_attention_{i}'] = types[i].apply(lambda row: sum(row[f'{name}_question_ave']) / sum(row[f'{name}_total_ave']), axis=1)\n",
    "        type_data[i][f'{name}_context_similarity_{i}'] = types[i][f'{name}_context_similarity']\n",
    "        type_data[i][f'{name}_question_similarity_{i}'] = types[i][f'{name}_question_similarity']\n",
    "        "
   ]
  },
  {
   "cell_type": "code",
   "execution_count": null,
   "id": "10b227a6",
   "metadata": {},
   "outputs": [],
   "source": [
    "type_summary = pd.DataFrame(columns=['type', 'model', 'avg_context_attn', 'avg_question_attn', 'avg_context_similarity', 'avg_question_similarity'])\n",
    "\n",
    "for i in range(4):\n",
    "    for name in model_names:\n",
    "        type_summary.loc[len(type_summary)] = [i, name, type_data[i][f'{name}_context_attention_{i}'].mean(), \n",
    "                                               type_data[i][f'{name}_question_attention_{i}'].mean(), type_data[i][f'{name}_context_similarity_{i}'].mean(), \n",
    "                                               type_data[i][f'{name}_question_similarity_{i}'].mean()]\n",
    "\n",
    "type_summary.sort_values(by=['model', 'type'], ascending=[True, True]).to_latex()"
   ]
  },
  {
   "cell_type": "code",
   "execution_count": null,
   "id": "c2199902",
   "metadata": {},
   "outputs": [],
   "source": [
    "model_data = [0, 0, 0, 0]\n",
    "for x in range(len(model_names)):\n",
    "    name = model_names[x]\n",
    "    model_data[x] = pd.concat([type_data[t][[f'{name}_context_attention_{t}', f'{name}_question_attention_{t}', f'{name}_context_similarity_{t}', f'{name}_question_similarity_{t}']].reset_index(drop=True) for t in range(len(type_data))], axis=1)"
   ]
  },
  {
   "cell_type": "code",
   "execution_count": null,
   "id": "5eda1984",
   "metadata": {},
   "outputs": [],
   "source": [
    "cols = []\n",
    "labels = []\n",
    "\n",
    "fig, axes = plt.subplots(2, 2, figsize=(7, 7))\n",
    "\n",
    "for x in range(len(model_names)):\n",
    "    name = model_names[x]\n",
    "    cols.append([])\n",
    "    labels.append([])\n",
    "    for i in range(4):\n",
    "        cols[x].append(f'{name}_context_attention_{i}')\n",
    "        labels[x].append(f'Type {i}')\n",
    "    model_data[x].boxplot(column=cols[x], ax=axes[x//2, x%2])\n",
    "    axes[x//2, x%2].set_title(model_names[x])\n",
    "    axes[x//2, x%2].set_xticklabels(labels[x])\n",
    "    \n",
    "plt.suptitle('Context Attention Ratio for Different Context-Question Pair Types')\n",
    "plt.tight_layout()\n",
    "plt.show()"
   ]
  },
  {
   "cell_type": "code",
   "execution_count": null,
   "id": "b58f32f3",
   "metadata": {},
   "outputs": [],
   "source": [
    "cols = []\n",
    "labels = []\n",
    "\n",
    "fig, axes = plt.subplots(2, 2, figsize=(7, 7))\n",
    "\n",
    "for x in range(len(model_names)):\n",
    "    name = model_names[x]\n",
    "    cols.append([])\n",
    "    labels.append([])\n",
    "    for i in range(4):\n",
    "        cols[x].append(f'{name}_question_attention_{i}')\n",
    "        labels[x].append(f'Type {i}')\n",
    "    model_data[x].boxplot(column=cols[x], ax=axes[x//2, x%2])\n",
    "    axes[x//2, x%2].set_title(model_names[x])\n",
    "    axes[x//2, x%2].set_xticklabels(labels[x])\n",
    "    \n",
    "plt.suptitle('Question Attention Ratio for Different Context-Question Pair Types')    \n",
    "plt.tight_layout()\n",
    "plt.show()"
   ]
  },
  {
   "cell_type": "code",
   "execution_count": null,
   "id": "b2a9096f",
   "metadata": {},
   "outputs": [],
   "source": [
    "cols = []\n",
    "labels = []\n",
    "\n",
    "fig, axes = plt.subplots(2, 2, figsize=(7, 7))\n",
    "\n",
    "for x in range(len(model_names)):\n",
    "    name = model_names[x]\n",
    "    cols.append([])\n",
    "    labels.append([])\n",
    "    for i in range(4):\n",
    "        cols[x].append(f'{name}_context_similarity_{i}')\n",
    "        labels[x].append(f'Type {i}')\n",
    "    model_data[x].boxplot(column=cols[x], ax=axes[x//2, x%2])\n",
    "    axes[x//2, x%2].set_title(model_names[x])\n",
    "    axes[x//2, x%2].set_xticklabels(labels[x])\n",
    "\n",
    "plt.suptitle('Context Attention Cosine Similarity for Different Context-Question Pair Types')    \n",
    "plt.tight_layout()\n",
    "plt.show()"
   ]
  },
  {
   "cell_type": "code",
   "execution_count": null,
   "id": "133b8cdd",
   "metadata": {},
   "outputs": [],
   "source": [
    "cols = []\n",
    "labels = []\n",
    "\n",
    "fig, axes = plt.subplots(2, 2, figsize=(7, 7))\n",
    "\n",
    "for x in range(len(model_names)):\n",
    "    name = model_names[x]\n",
    "    cols.append([])\n",
    "    labels.append([])\n",
    "    for i in range(4):\n",
    "        cols[x].append(f'{name}_question_similarity_{i}')\n",
    "        labels[x].append(f'Type {i}')\n",
    "    model_data[x].boxplot(column=cols[x], ax=axes[x//2, x%2])\n",
    "    axes[x//2, x%2].set_title(model_names[x])\n",
    "    axes[x//2, x%2].set_xticklabels(labels[x])\n",
    "\n",
    "plt.suptitle('Question Attention Cosine Similarity for Different Context-Question Pair Types')   \n",
    "plt.tight_layout()\n",
    "plt.show()"
   ]
  },
  {
   "cell_type": "code",
   "execution_count": null,
   "id": "6c5dd3fa",
   "metadata": {},
   "outputs": [],
   "source": [
    "#Filtering to remove model hallucinations\n",
    "import pandas as pd\n",
    "import ast\n",
    "from scipy.special import softmax\n",
    "\n",
    "annotated_results_df = pd.read_csv('Data Files/annotated_complete_results.csv')"
   ]
  },
  {
   "cell_type": "code",
   "execution_count": null,
   "id": "fcd0c125",
   "metadata": {},
   "outputs": [],
   "source": [
    "name = \"Qwen2.5-1.5B\"\n",
    "filtered_df = annotated_results_df[annotated_results_df[f'{name}_hallucinated'] == False]"
   ]
  },
  {
   "cell_type": "code",
   "execution_count": null,
   "id": "46c4f216",
   "metadata": {},
   "outputs": [],
   "source": [
    "from sklearn.preprocessing import StandardScaler\n",
    "import numpy as np\n",
    "from sklearn.metrics.pairwise import cosine_similarity\n",
    "from scipy.special import softmax\n",
    "\n",
    "def softmax_transform(data):\n",
    "    return np.array(softmax(data), dtype='float32').reshape(1, -1)\n",
    "\n",
    "def get_similarity(llm_attn, human_attn):\n",
    "    normalized_llm = np.array(llm_attn, dtype='float32').reshape(1, -1)\n",
    "    normalized_human = softmax_transform(human_attn)\n",
    "    return cosine_similarity(normalized_llm, normalized_human)[0][0]\n"
   ]
  },
  {
   "cell_type": "code",
   "execution_count": null,
   "id": "a009075a",
   "metadata": {},
   "outputs": [],
   "source": [
    "for name in model_names:\n",
    "    filtered_df[f'{name}_context_weights'] = filtered_df[f'{name}_context_weights'].apply(ast.literal_eval)\n",
    "    filtered_df[f'{name}_question_weights'] = filtered_df[f'{name}_question_weights'].apply(ast.literal_eval)\n",
    "    filtered_df[f'{name}_context_ave'] = filtered_df[f'{name}_context_ave'].apply(ast.literal_eval)\n",
    "    filtered_df[f'{name}_question_ave'] = filtered_df[f'{name}_question_ave'].apply(ast.literal_eval)\n",
    "    filtered_df[f'{name}_total_ave'] = filtered_df[f'{name}_total_ave'].apply(ast.literal_eval)"
   ]
  },
  {
   "cell_type": "code",
   "execution_count": null,
   "id": "2c300b06",
   "metadata": {},
   "outputs": [],
   "source": [
    "for name in model_names:\n",
    "    filtered_df[f'{name}_context_similarity'] = filtered_df.apply(lambda row: get_similarity(row[f'{name}_context_ave'], row[f'{name}_context_weights']), axis=1)\n",
    "    filtered_df[f'{name}_question_similarity'] = filtered_df.apply(lambda row: get_similarity(row[f'{name}_question_ave'], row[f'{name}_question_weights']), axis=1)"
   ]
  },
  {
   "cell_type": "code",
   "execution_count": null,
   "id": "b5b8a047",
   "metadata": {},
   "outputs": [
    {
     "data": {
      "image/png": "[encoded data removed]",
      "text/plain": [
       "<Figure size 640x480 with 1 Axes>"
      ]
     },
     "metadata": {},
     "output_type": "display_data"
    }
   ],
   "source": [
    "labels = []\n",
    "for name in model_names:\n",
    "    labels.append(name)\n",
    "\n",
    "plt.boxplot([filtered_df[f'{model_names[0]}_context_similarity'], filtered_df[f'{model_names[1]}_context_similarity'],\n",
    "            filtered_df[f'{model_names[2]}_context_similarity'], filtered_df[f'{model_names[3]}_context_similarity']], labels=labels)\n",
    "plt.title('Context Attention Cosine Similarity Scores between LLMs and Humans')\n",
    "plt.grid(True)\n",
    "plt.show()"
   ]
  },
  {
   "cell_type": "code",
   "execution_count": null,
   "id": "a62cb398",
   "metadata": {},
   "outputs": [
    {
     "data": {
      "image/png": "[encoded data removed]",
      "text/plain": [
       "<Figure size 640x480 with 1 Axes>"
      ]
     },
     "metadata": {},
     "output_type": "display_data"
    }
   ],
   "source": [
    "plt.boxplot([filtered_df[f'{model_names[0]}_question_similarity'], filtered_df[f'{model_names[1]}_question_similarity'],\n",
    "            filtered_df[f'{model_names[2]}_question_similarity'], filtered_df[f'{model_names[3]}_question_similarity']], labels=labels)\n",
    "plt.title('Question Attention Cosine Similarity Scores between LLMs and Humans')\n",
    "plt.grid(True)\n",
    "plt.show()"
   ]
  },
  {
   "cell_type": "code",
   "execution_count": null,
   "id": "448d1a2f",
   "metadata": {},
   "outputs": [],
   "source": [
    "name = model_names[2]"
   ]
  },
  {
   "cell_type": "code",
   "execution_count": null,
   "id": "7f557811",
   "metadata": {},
   "outputs": [],
   "source": [
    "# Get all grouped types\n",
    "types = [0, 0, 0, 0]\n",
    "for i in range(4):\n",
    "    types[i] = filtered_df[filtered_df['type'] == i]"
   ]
  },
  {
   "cell_type": "code",
   "execution_count": null,
   "id": "60a9a812",
   "metadata": {},
   "outputs": [],
   "source": [
    "type_data = [pd.DataFrame() for _ in range(4)]\n",
    "\n",
    "for i in range(4):\n",
    "    type_data[i][f'{name}_context_attention_{i}'] = types[i].apply(lambda row: sum(row[f'{name}_context_ave']) / sum(row[f'{name}_total_ave']), axis=1)\n",
    "    type_data[i][f'{name}_question_attention_{i}'] = types[i].apply(lambda row: sum(row[f'{name}_question_ave']) / sum(row[f'{name}_total_ave']), axis=1)\n",
    "    type_data[i][f'{name}_context_similarity_{i}'] = types[i][f'{name}_context_similarity']\n",
    "    type_data[i][f'{name}_question_similarity_{i}'] = types[i][f'{name}_question_similarity']\n"
   ]
  },
  {
   "cell_type": "code",
   "execution_count": null,
   "id": "96ff6e1c",
   "metadata": {},
   "outputs": [
    {
     "data": {
      "text/plain": [
       "'\\\\begin{tabular}{lrlrrrr}\\n\\\\toprule\\n & type & model & avg_context_attn & avg_question_attn & avg_context_similarity & avg_question_similarity \\\\\\\\\\n\\\\midrule\\n0 & 0 & Qwen2.5-1.5B & 0.165058 & 0.045666 & 0.671102 & 0.820700 \\\\\\\\\\n1 & 1 & Qwen2.5-1.5B & 0.075673 & 0.044692 & 0.576192 & 0.858614 \\\\\\\\\\n2 & 2 & Qwen2.5-1.5B & 0.098071 & 0.072771 & 0.606846 & 0.804959 \\\\\\\\\\n3 & 3 & Qwen2.5-1.5B & 0.071987 & 0.072843 & 0.570341 & 0.827003 \\\\\\\\\\n\\\\bottomrule\\n\\\\end{tabular}\\n'"
      ]
     },
     "execution_count": 321,
     "metadata": {},
     "output_type": "execute_result"
    }
   ],
   "source": [
    "type_summary = pd.DataFrame(columns=['type', 'model', 'avg_context_attn', 'avg_question_attn', 'avg_context_similarity', 'avg_question_similarity'])\n",
    "\n",
    "for i in range(4):\n",
    "    type_summary.loc[len(type_summary)] = [i, name, type_data[i][f'{name}_context_attention_{i}'].mean(), \n",
    "                                            type_data[i][f'{name}_question_attention_{i}'].mean(), type_data[i][f'{name}_context_similarity_{i}'].mean(), \n",
    "                                            type_data[i][f'{name}_question_similarity_{i}'].mean()]\n",
    "\n",
    "type_summary.sort_values(by=['model', 'type'], ascending=[True, True]).to_latex()"
   ]
  },
  {
   "cell_type": "code",
   "execution_count": null,
   "id": "86daac4c",
   "metadata": {},
   "outputs": [],
   "source": [
    "name = model_names[2]\n",
    "model_data = pd.concat([type_data[t][[f'{name}_context_attention_{t}', f'{name}_question_attention_{t}', f'{name}_context_similarity_{t}', f'{name}_question_similarity_{t}']].reset_index(drop=True) for t in range(len(type_data))], axis=1)"
   ]
  },
  {
   "cell_type": "code",
   "execution_count": null,
   "id": "351f96c2",
   "metadata": {},
   "outputs": [
    {
     "data": {
      "image/png": "[encoded data removed]",
      "text/plain": [
       "<Figure size 700x300 with 2 Axes>"
      ]
     },
     "metadata": {},
     "output_type": "display_data"
    }
   ],
   "source": [
    "fig, axes = plt.subplots(1, 2, figsize=(7, 3))\n",
    "\n",
    "cols = []\n",
    "labels = []\n",
    "\n",
    "for i in range(4):\n",
    "    cols.append(f'{name}_context_attention_{i}')\n",
    "    labels.append(f'Type {i}')\n",
    "model_data.boxplot(column=cols, ax=axes[0])\n",
    "axes[0].set_title('Context Attention Ratio')\n",
    "axes[0].set_xticklabels(labels)\n",
    "\n",
    "cols = []\n",
    "labels = []\n",
    "\n",
    "for i in range(4):\n",
    "    cols.append(f'{name}_question_attention_{i}')\n",
    "    labels.append(f'Type {i}')\n",
    "model_data.boxplot(column=cols, ax=axes[1])\n",
    "axes[1].set_title('Question Attention Ratio')\n",
    "axes[1].set_xticklabels(labels)\n",
    "\n",
    "plt.suptitle('Qwen2.5-1.5B Non-Hallucinated Data')\n",
    "plt.tight_layout()\n",
    "plt.show()"
   ]
  },
  {
   "cell_type": "markdown",
   "id": "767e88f9",
   "metadata": {},
   "source": [
    "# QWEN 2.5"
   ]
  },
  {
   "cell_type": "code",
   "execution_count": null,
   "id": "16d7a00c",
   "metadata": {},
   "outputs": [],
   "source": [
    "name = \"Qwen2.5-1.5B\"\n",
    "hallucinated_df = annotated_results_df[annotated_results_df[f'{name}_hallucinated'] == True]"
   ]
  },
  {
   "cell_type": "code",
   "execution_count": null,
   "id": "ea2e7b24",
   "metadata": {},
   "outputs": [],
   "source": [
    "for name in model_names:\n",
    "    hallucinated_df[f'{name}_context_weights'] = hallucinated_df[f'{name}_context_weights'].apply(ast.literal_eval)\n",
    "    hallucinated_df[f'{name}_question_weights'] = hallucinated_df[f'{name}_question_weights'].apply(ast.literal_eval)\n",
    "    hallucinated_df[f'{name}_context_ave'] = hallucinated_df[f'{name}_context_ave'].apply(ast.literal_eval)\n",
    "    hallucinated_df[f'{name}_question_ave'] = hallucinated_df[f'{name}_question_ave'].apply(ast.literal_eval)\n",
    "    hallucinated_df[f'{name}_total_ave'] = hallucinated_df[f'{name}_total_ave'].apply(ast.literal_eval)"
   ]
  },
  {
   "cell_type": "code",
   "execution_count": null,
   "id": "eff8fdc4",
   "metadata": {},
   "outputs": [],
   "source": [
    "for name in model_names:\n",
    "    hallucinated_df[f'{name}_context_similarity'] = hallucinated_df.apply(lambda row: get_similarity(row[f'{name}_context_ave'], row[f'{name}_context_weights']), axis=1)\n",
    "    hallucinated_df[f'{name}_question_similarity'] = hallucinated_df.apply(lambda row: get_similarity(row[f'{name}_question_ave'], row[f'{name}_question_weights']), axis=1)"
   ]
  },
  {
   "cell_type": "code",
   "execution_count": null,
   "id": "af2f6b94",
   "metadata": {},
   "outputs": [
    {
     "name": "stdout",
     "output_type": "stream",
     "text": [
      "LLaMA3.2-1B: (np.float32(0.7336628), np.float32(0.8639713))\n",
      "LLaMA3.2-3B: (np.float32(0.8013755), np.float32(0.83988035))\n",
      "Qwen2.5-1.5B: (np.float32(0.64825356), np.float32(0.7533635))\n",
      "Qwen2.5-3B: (np.float32(0.64863735), np.float32(0.9382559))\n"
     ]
    }
   ],
   "source": [
    "# Get similarity average for hallucinated responses\n",
    "for name in model_names:\n",
    "    model = (hallucinated_df[f'{name}_context_similarity'].mean(), hallucinated_df[f'{name}_question_similarity'].mean())\n",
    "    print(f'{name}: {model}')"
   ]
  },
  {
   "cell_type": "code",
   "execution_count": null,
   "id": "a706ef9c",
   "metadata": {},
   "outputs": [
    {
     "name": "stdout",
     "output_type": "stream",
     "text": [
      "LLaMA3.2-1B: (np.float32(0.7511344), np.float32(0.8674709))\n",
      "LLaMA3.2-3B: (np.float32(0.8039748), np.float32(0.8100082))\n",
      "Qwen2.5-1.5B: (np.float32(0.6078829), np.float32(0.8250861))\n",
      "Qwen2.5-3B: (np.float32(0.6911096), np.float32(0.93117076))\n"
     ]
    }
   ],
   "source": [
    "for name in model_names:\n",
    "    model = (filtered_df[f'{name}_context_similarity'].mean(), filtered_df[f'{name}_question_similarity'].mean())\n",
    "    print(f'{name}: {model}')"
   ]
  },
  {
   "cell_type": "code",
   "execution_count": null,
   "id": "b3c010d8",
   "metadata": {},
   "outputs": [],
   "source": [
    "# Get all grouped types\n",
    "hallu_types = [0, 0, 0, 0]\n",
    "for i in range(4):\n",
    "    hallu_types[i] = hallucinated_df[hallucinated_df['type'] == i]"
   ]
  },
  {
   "cell_type": "code",
   "execution_count": null,
   "id": "f3ef97bc",
   "metadata": {},
   "outputs": [],
   "source": [
    "name = model_names[2]\n",
    "hallu_type_data = [pd.DataFrame() for _ in range(4)]\n",
    "\n",
    "for i in range(4):\n",
    "    hallu_type_data[i][f'{name}_context_attention'] = hallu_types[i].apply(lambda row: sum(row[f'{name}_context_ave']) / sum(row[f'{name}_total_ave']), axis=1)\n",
    "    hallu_type_data[i][f'{name}_question_attention'] = hallu_types[i].apply(lambda row: sum(row[f'{name}_question_ave']) / sum(row[f'{name}_total_ave']), axis=1)\n",
    "    hallu_type_data[i][f'{name}_context_similarity'] = hallu_types[i][f'{name}_context_similarity']\n",
    "    hallu_type_data[i][f'{name}_question_similarity'] = hallu_types[i][f'{name}_question_similarity']\n"
   ]
  },
  {
   "cell_type": "code",
   "execution_count": null,
   "id": "ed82b821",
   "metadata": {},
   "outputs": [
    {
     "data": {
      "text/plain": [
       "'\\\\begin{tabular}{lrlrrrr}\\n\\\\toprule\\n & type & model & avg_context_attn & avg_question_attn & avg_context_similarity & avg_question_similarity \\\\\\\\\\n\\\\midrule\\n0 & 0 & Qwen2.5-1.5B & 0.067063 & 0.038920 & 0.605054 & 0.857533 \\\\\\\\\\n1 & 1 & Qwen2.5-1.5B & 0.179017 & 0.024961 & 0.700826 & 0.741424 \\\\\\\\\\n2 & 2 & Qwen2.5-1.5B & 0.015739 & 0.023235 & 0.384826 & 0.658325 \\\\\\\\\\n3 & 3 & Qwen2.5-1.5B & 0.224511 & 0.027833 & 0.766189 & 0.739906 \\\\\\\\\\n\\\\bottomrule\\n\\\\end{tabular}\\n'"
      ]
     },
     "execution_count": 331,
     "metadata": {},
     "output_type": "execute_result"
    }
   ],
   "source": [
    "hallu_type_summary = pd.DataFrame(columns=['type', 'model', 'avg_context_attn', 'avg_question_attn', 'avg_context_similarity', 'avg_question_similarity'])\n",
    "\n",
    "for i in range(4):\n",
    "    if hallu_types[i].shape[0] == 0:\n",
    "        continue\n",
    "\n",
    "    hallu_type_summary.loc[len(hallu_type_summary)] = [i, name, hallu_type_data[i][f'{name}_context_attention'].mean(), \n",
    "                                            hallu_type_data[i][f'{name}_question_attention'].mean(), hallu_types[i][f'{name}_context_similarity'].mean(), \n",
    "                                            hallu_types[i][f'{name}_question_similarity'].mean()]\n",
    "\n",
    "hallu_type_summary.sort_values(by=['model', 'type'], ascending=[True, True]).to_latex()"
   ]
  },
  {
   "cell_type": "code",
   "execution_count": null,
   "id": "9a6ebc28",
   "metadata": {},
   "outputs": [],
   "source": [
    "fig, axes = plt.subplots(1, 2, figsize=(12, 7))\n",
    "\n",
    "cols = []\n",
    "labels = []\n",
    "for i in range(4):\n",
    "    labels.append(f\"T{i} (H)\")\n",
    "    labels.append(f\"T{i}\")\n",
    "\n",
    "for i in range(4):\n",
    "    cols.append(hallu_type_data[i][f'{name}_context_attention'].dropna())\n",
    "    cols.append(model_data[f'{name}_context_attention_{i}'].dropna())\n",
    "axes[0].boxplot(cols, labels=labels)\n",
    "axes[0].set_title('Context Attention Ratio')\n",
    "\n",
    "cols = []\n",
    "labels = []\n",
    "for i in range(4):\n",
    "    labels.append(f\"T{i} (H)\")\n",
    "    labels.append(f\"T{i}\")\n",
    "\n",
    "for i in range(4):\n",
    "    cols.append(hallu_type_data[i][f'{name}_question_attention'].dropna())\n",
    "    cols.append(model_data[f'{name}_question_attention_{i}'].dropna())\n",
    "axes[1].boxplot(cols, labels=labels)\n",
    "axes[1].set_title('Question Attention Ratio')\n",
    "\n",
    "plt.suptitle('Qwen2.5-1.5B Hallucinated vs Non-Hallucinated Average Attentions')\n",
    "plt.tight_layout()\n",
    "plt.show()"
   ]
  },
  {
   "cell_type": "code",
   "execution_count": null,
   "id": "bd50f785",
   "metadata": {},
   "outputs": [],
   "source": [
    "fig, axes = plt.subplots(1, 2, figsize=(12, 7))\n",
    "\n",
    "cols = []\n",
    "for i in range(4):\n",
    "    cols.append(hallu_type_data[i][f'{name}_context_similarity'])\n",
    "    cols.append(model_data[f'{name}_context_similarity_{i}'].dropna())\n",
    "axes[0].boxplot(cols, labels=labels)\n",
    "axes[0].set_title('Context Similarity')\n",
    "\n",
    "cols = []\n",
    "for i in range(4):\n",
    "    cols.append(hallu_type_data[i][f'{name}_question_similarity'])\n",
    "    cols.append(model_data[f'{name}_question_similarity_{i}'].dropna())\n",
    "axes[1].boxplot(cols, labels=labels)\n",
    "axes[1].set_title('Question Similarity')\n",
    "\n",
    "plt.suptitle('Qwen2.5-1.5B Hallucinated vs Non-Hallucinated Cosine Similarities')\n",
    "plt.tight_layout()\n",
    "plt.show()"
   ]
  },
  {
   "cell_type": "code",
   "execution_count": null,
   "id": "f15f160f",
   "metadata": {},
   "outputs": [],
   "source": [
    "import numpy as np\n",
    "from scipy import stats\n",
    "\n",
    "# Example data (two groups)\n",
    "for i in range(4):\n",
    "    group1 = np.array(hallu_type_data[i][f'{name}_context_attention'])\n",
    "    group2 = np.array(model_data[f'{name}_context_attention_{i}'].dropna())\n",
    "\n",
    "    # Independent t-test\n",
    "    t_stat, p_val = stats.ttest_ind(group1, group2)\n",
    "\n",
    "    print(\"t-statistic:\", t_stat)\n",
    "    print(\"p-value:\", p_val)\n",
    "\n",
    "    if p_val < 0.05:\n",
    "        print(\"✅ Significant difference between means\")\n",
    "    else:\n",
    "        print(\"❌ No significant difference between means\")\n",
    "\n",
    "    print()\n"
   ]
  },
  {
   "cell_type": "code",
   "execution_count": null,
   "id": "5eb8c9ab",
   "metadata": {},
   "outputs": [],
   "source": [
    "# Example data (two groups)\n",
    "for i in range(4):\n",
    "    group1 = np.array(hallu_type_data[i][f'{name}_question_attention'])\n",
    "    group2 = np.array(model_data[f'{name}_question_attention_{i}'].dropna())\n",
    "\n",
    "    # Independent t-test\n",
    "    t_stat, p_val = stats.ttest_ind(group1, group2)\n",
    "\n",
    "    print(\"t-statistic:\", t_stat)\n",
    "    print(\"p-value:\", p_val)\n",
    "\n",
    "    if p_val < 0.05:\n",
    "        print(\"✅ Significant difference between means\")\n",
    "    else:\n",
    "        print(\"❌ No significant difference between means\")\n",
    "\n",
    "    print()"
   ]
  },
  {
   "cell_type": "code",
   "execution_count": null,
   "id": "29f9dbd6",
   "metadata": {},
   "outputs": [],
   "source": [
    "# Example data (two groups)\n",
    "print(f\"Model: {name}\")\n",
    "for i in range(4):\n",
    "    group1 = np.array(hallu_type_data[i][f'{name}_context_similarity'])\n",
    "    group2 = np.array(model_data[f'{name}_context_similarity_{i}'].dropna())\n",
    "\n",
    "    # Independent t-test\n",
    "    t_stat, p_val = stats.ttest_ind(group1, group2)\n",
    "\n",
    "    print(f\"Type {i}\")\n",
    "    print(\"t-statistic:\", t_stat)\n",
    "    print(\"p-value:\", p_val)\n",
    "\n",
    "    if p_val < 0.05:\n",
    "        print(\"✅ Significant difference between means\")\n",
    "    else:\n",
    "        print(\"❌ No significant difference between means\")\n",
    "\n",
    "    print()"
   ]
  },
  {
   "cell_type": "code",
   "execution_count": null,
   "id": "8ab59d50",
   "metadata": {},
   "outputs": [],
   "source": [
    "print(f\"Model: {name}\")\n",
    "for i in range(4):\n",
    "    group1 = np.array(hallu_type_data[i][f'{name}_question_similarity'])\n",
    "    group2 = np.array(model_data[f'{name}_question_similarity_{i}'].dropna())\n",
    "\n",
    "    # Independent t-test\n",
    "    t_stat, p_val = stats.ttest_ind(group1, group2)\n",
    "\n",
    "    print(f\"Type {i}\")\n",
    "    print(\"t-statistic:\", t_stat)\n",
    "    print(\"p-value:\", p_val)\n",
    "\n",
    "    if p_val < 0.05:\n",
    "        print(\"✅ Significant difference between means\")\n",
    "    else:\n",
    "        print(\"❌ No significant difference between means\")\n",
    "\n",
    "    print()"
   ]
  },
  {
   "cell_type": "markdown",
   "id": "b09625f0",
   "metadata": {},
   "source": [
    "# LLaMA 1B"
   ]
  },
  {
   "cell_type": "code",
   "execution_count": null,
   "id": "68915d68",
   "metadata": {},
   "outputs": [],
   "source": [
    "# Get all grouped types\n",
    "hallu_types = [0, 0, 0, 0]\n",
    "for i in range(4):\n",
    "    hallu_types[i] = hallucinated_df[hallucinated_df['type'] == i]"
   ]
  },
  {
   "cell_type": "code",
   "execution_count": null,
   "id": "79ee8382",
   "metadata": {},
   "outputs": [],
   "source": [
    "name = model_names[0]\n",
    "hallu_type_data = [pd.DataFrame() for _ in range(4)]\n",
    "for i in range(4):\n",
    "    hallu_type_data[i][f'{name}_context_attention'] = hallu_types[i].apply(lambda row: sum(row[f'{name}_context_ave']) / sum(row[f'{name}_total_ave']), axis=1)\n",
    "    hallu_type_data[i][f'{name}_question_attention'] = hallu_types[i].apply(lambda row: sum(row[f'{name}_question_ave']) / sum(row[f'{name}_total_ave']), axis=1)\n",
    "    hallu_type_data[i][f'{name}_context_similarity'] = hallu_types[i][f'{name}_context_similarity']\n",
    "    hallu_type_data[i][f'{name}_question_similarity'] = hallu_types[i][f'{name}_question_similarity']\n"
   ]
  },
  {
   "cell_type": "code",
   "execution_count": null,
   "id": "fc7d811a",
   "metadata": {},
   "outputs": [],
   "source": [
    "hallu_type_summary = pd.DataFrame(columns=['type', 'model', 'avg_context_attn', 'avg_question_attn', 'avg_context_similarity', 'avg_question_similarity'])\n",
    "\n",
    "for i in range(4):\n",
    "    if hallu_types[i].shape[0] == 0:\n",
    "        continue\n",
    "\n",
    "    hallu_type_summary.loc[len(hallu_type_summary)] = [i, name, hallu_type_data[i][f'{name}_context_attention'].mean(), \n",
    "                                            hallu_type_data[i][f'{name}_question_attention'].mean(), hallu_types[i][f'{name}_context_similarity'].mean(), \n",
    "                                            hallu_types[i][f'{name}_question_similarity'].mean()]\n",
    "\n",
    "hallu_type_summary.sort_values(by=['model', 'type'], ascending=[True, True]).to_latex()"
   ]
  },
  {
   "cell_type": "code",
   "execution_count": null,
   "id": "5456bbb5",
   "metadata": {},
   "outputs": [],
   "source": [
    "# Get all grouped types\n",
    "types = [0, 0, 0, 0]\n",
    "for i in range(4):\n",
    "    types[i] = filtered_df[filtered_df['type'] == i]"
   ]
  },
  {
   "cell_type": "code",
   "execution_count": null,
   "id": "20a5c1eb",
   "metadata": {},
   "outputs": [],
   "source": [
    "type_data = [pd.DataFrame() for _ in range(4)]\n",
    "\n",
    "for i in range(4):\n",
    "    type_data[i][f'{name}_context_attention_{i}'] = types[i].apply(lambda row: sum(row[f'{name}_context_ave']) / sum(row[f'{name}_total_ave']), axis=1)\n",
    "    type_data[i][f'{name}_question_attention_{i}'] = types[i].apply(lambda row: sum(row[f'{name}_question_ave']) / sum(row[f'{name}_total_ave']), axis=1)\n",
    "    type_data[i][f'{name}_context_similarity_{i}'] = types[i][f'{name}_context_similarity']\n",
    "    type_data[i][f'{name}_question_similarity_{i}'] = types[i][f'{name}_question_similarity']\n"
   ]
  },
  {
   "cell_type": "code",
   "execution_count": null,
   "id": "4eea8df7",
   "metadata": {},
   "outputs": [],
   "source": [
    "type_summary = pd.DataFrame(columns=['type', 'model', 'avg_context_attn', 'avg_question_attn', 'avg_context_similarity', 'avg_question_similarity'])\n",
    "\n",
    "for i in range(4):\n",
    "    type_summary.loc[len(type_summary)] = [i, name, type_data[i][f'{name}_context_attention_{i}'].mean(), \n",
    "                                            type_data[i][f'{name}_question_attention_{i}'].mean(), type_data[i][f'{name}_context_similarity_{i}'].mean(), \n",
    "                                            type_data[i][f'{name}_question_similarity_{i}'].mean()]\n",
    "\n",
    "type_summary.sort_values(by=['model', 'type'], ascending=[True, True]).to_latex()"
   ]
  },
  {
   "cell_type": "code",
   "execution_count": null,
   "id": "acf4664f",
   "metadata": {},
   "outputs": [],
   "source": [
    "model_data = pd.concat([type_data[t][[f'{name}_context_attention_{t}', f'{name}_question_attention_{t}', f'{name}_context_similarity_{t}', f'{name}_question_similarity_{t}']].reset_index(drop=True) for t in range(len(type_data))], axis=1)"
   ]
  },
  {
   "cell_type": "code",
   "execution_count": null,
   "id": "a3d8418d",
   "metadata": {},
   "outputs": [],
   "source": [
    "fig, axes = plt.subplots(1, 2, figsize=(10, 7))\n",
    "\n",
    "cols = []\n",
    "labels = []\n",
    "for i in range(4):\n",
    "    labels.append(f\"T{i} (H)\")\n",
    "    labels.append(f\"T{i}\")\n",
    "\n",
    "for i in range(4):\n",
    "    cols.append(hallu_type_data[i][f'{name}_context_attention'].dropna())\n",
    "    cols.append(model_data[f'{name}_context_attention_{i}'].dropna())\n",
    "axes[0].boxplot(cols, labels=labels)\n",
    "axes[0].set_title('Context Attention Ratio')\n",
    "\n",
    "cols = []\n",
    "labels = []\n",
    "for i in range(4):\n",
    "    labels.append(f\"T{i} (H)\")\n",
    "    labels.append(f\"T{i}\")\n",
    "    \n",
    "for i in range(4):\n",
    "    cols.append(hallu_type_data[i][f'{name}_question_attention'].dropna())\n",
    "    cols.append(model_data[f'{name}_question_attention_{i}'].dropna())\n",
    "axes[1].boxplot(cols, labels=labels)\n",
    "axes[1].set_title('Question Attention Ratio')\n",
    "\n",
    "plt.suptitle('Qwen2.5-1.5B Hallucinated vs Non-Hallucinated Average Attentions')\n",
    "plt.tight_layout()\n",
    "plt.show()"
   ]
  },
  {
   "cell_type": "code",
   "execution_count": null,
   "id": "7ca4febe",
   "metadata": {},
   "outputs": [],
   "source": [
    "fig, axes = plt.subplots(1, 2, figsize=(10, 7))\n",
    "\n",
    "cols = []\n",
    "labels = []\n",
    "for i in range(4):\n",
    "    labels.append(f\"T{i} (H)\")\n",
    "    labels.append(f\"T{i}\")\n",
    "\n",
    "for i in range(4):\n",
    "    cols.append(hallu_type_data[i][f'{name}_context_similarity'].dropna())\n",
    "    cols.append(model_data[f'{name}_context_similarity_{i}'].dropna())\n",
    "axes[0].boxplot(cols, labels=labels)\n",
    "axes[0].set_title('Context Similarity')\n",
    "\n",
    "cols = []\n",
    "labels = []\n",
    "for i in range(4):\n",
    "    labels.append(f\"T{i} (H)\")\n",
    "    labels.append(f\"T{i}\")\n",
    "    \n",
    "for i in range(4):\n",
    "    cols.append(hallu_type_data[i][f'{name}_question_similarity'].dropna())\n",
    "    cols.append(model_data[f'{name}_question_similarity_{i}'].dropna())\n",
    "axes[1].boxplot(cols, labels=labels)\n",
    "axes[1].set_title('Question Similarity')\n",
    "\n",
    "plt.suptitle('Qwen2.5-1.5B Hallucinated vs Non-Hallucinated Cosine Similarities')\n",
    "plt.tight_layout()\n",
    "plt.show()"
   ]
  },
  {
   "cell_type": "code",
   "execution_count": null,
   "id": "c797b081",
   "metadata": {},
   "outputs": [],
   "source": [
    "import numpy as np\n",
    "from scipy import stats\n",
    "\n",
    "# Example data (two groups)\n",
    "for i in range(4):\n",
    "    group1 = np.array(hallu_type_data[i][f'{name}_context_attention'])\n",
    "    group2 = np.array(model_data[f'{name}_context_attention_{i}'].dropna())\n",
    "\n",
    "    # Independent t-test\n",
    "    t_stat, p_val = stats.ttest_ind(group1, group2)\n",
    "\n",
    "    print(\"t-statistic:\", t_stat)\n",
    "    print(\"p-value:\", p_val)\n",
    "\n",
    "    if p_val < 0.05:\n",
    "        print(\"✅ Significant difference between means\")\n",
    "    else:\n",
    "        print(\"❌ No significant difference between means\")\n",
    "\n",
    "    print()\n"
   ]
  },
  {
   "cell_type": "code",
   "execution_count": null,
   "id": "b1068676",
   "metadata": {},
   "outputs": [],
   "source": [
    "# Example data (two groups)\n",
    "for i in range(4):\n",
    "    group1 = np.array(hallu_type_data[i][f'{name}_question_attention'])\n",
    "    group2 = np.array(model_data[f'{name}_question_attention_{i}'].dropna())\n",
    "\n",
    "    # Independent t-test\n",
    "    t_stat, p_val = stats.ttest_ind(group1, group2)\n",
    "\n",
    "    print(\"t-statistic:\", t_stat)\n",
    "    print(\"p-value:\", p_val)\n",
    "\n",
    "    if p_val < 0.05:\n",
    "        print(\"✅ Significant difference between means\")\n",
    "    else:\n",
    "        print(\"❌ No significant difference between means\")\n",
    "\n",
    "    print()"
   ]
  },
  {
   "cell_type": "code",
   "execution_count": null,
   "id": "84bad5c7",
   "metadata": {},
   "outputs": [],
   "source": [
    "# Example data (two groups)\n",
    "print(f\"Model: {name}\")\n",
    "for i in range(4):\n",
    "    group1 = np.array(hallu_type_data[i][f'{name}_context_similarity'])\n",
    "    group2 = np.array(model_data[f'{name}_context_similarity_{i}'].dropna())\n",
    "\n",
    "    # Independent t-test\n",
    "    t_stat, p_val = stats.ttest_ind(group1, group2)\n",
    "\n",
    "    print(f\"Type {i}\")\n",
    "    print(\"t-statistic:\", t_stat)\n",
    "    print(\"p-value:\", p_val)\n",
    "\n",
    "    if p_val < 0.05:\n",
    "        print(\"✅ Significant difference between means\")\n",
    "    else:\n",
    "        print(\"❌ No significant difference between means\")\n",
    "\n",
    "    print()"
   ]
  },
  {
   "cell_type": "code",
   "execution_count": null,
   "id": "aba106ed",
   "metadata": {},
   "outputs": [],
   "source": [
    "print(f\"Model: {name}\")\n",
    "for i in range(4):\n",
    "    group1 = np.array(hallu_type_data[i][f'{name}_question_similarity'])\n",
    "    group2 = np.array(model_data[f'{name}_question_similarity_{i}'].dropna())\n",
    "\n",
    "    # Independent t-test\n",
    "    t_stat, p_val = stats.ttest_ind(group1, group2)\n",
    "\n",
    "    print(f\"Type {i}\")\n",
    "    print(\"t-statistic:\", t_stat)\n",
    "    print(\"p-value:\", p_val)\n",
    "\n",
    "    if p_val < 0.05:\n",
    "        print(\"✅ Significant difference between means\")\n",
    "    else:\n",
    "        print(\"❌ No significant difference between means\")\n",
    "\n",
    "    print()"
   ]
  },
  {
   "cell_type": "markdown",
   "id": "933d01a5",
   "metadata": {},
   "source": [
    "### SECTION LAST"
   ]
  },
  {
   "cell_type": "code",
   "execution_count": null,
   "id": "aa0b7594",
   "metadata": {},
   "outputs": [],
   "source": [
    "import pandas as pd\n",
    "import ast\n",
    "from scipy.special import softmax\n",
    "import matplotlib.pyplot as plt\n",
    "import warnings\n",
    "warnings.filterwarnings('ignore')\n",
    "\n",
    "model_names = [\"LLaMA3.2-1B\", \"LLaMA3.2-3B\", \"Qwen2.5-1.5B\", \"Qwen2.5-3B\"]\n",
    "\n",
    "results_df = pd.read_csv('Data Files/annotated_complete_results.csv')"
   ]
  },
  {
   "cell_type": "code",
   "execution_count": null,
   "id": "70ba3e15",
   "metadata": {},
   "outputs": [],
   "source": [
    "for name in model_names:\n",
    "    results_df[f'{name}_context_weights'] = results_df[f'{name}_context_weights'].apply(ast.literal_eval)\n",
    "    results_df[f'{name}_question_weights'] = results_df[f'{name}_question_weights'].apply(ast.literal_eval)\n",
    "    results_df[f'{name}_context_ave'] = results_df[f'{name}_context_ave'].apply(ast.literal_eval)\n",
    "    results_df[f'{name}_question_ave'] = results_df[f'{name}_question_ave'].apply(ast.literal_eval)\n",
    "    results_df[f'{name}_total_ave'] = results_df[f'{name}_total_ave'].apply(ast.literal_eval)"
   ]
  },
  {
   "cell_type": "code",
   "execution_count": null,
   "id": "c07e2774",
   "metadata": {},
   "outputs": [],
   "source": [
    "from sklearn.preprocessing import StandardScaler\n",
    "import numpy as np\n",
    "from sklearn.metrics.pairwise import cosine_similarity\n",
    "from scipy.special import softmax\n",
    "\n",
    "def softmax_transform(data):\n",
    "    return np.array(softmax(data), dtype='float32').reshape(1, -1)\n",
    "\n",
    "def get_similarity(llm_attn, human_attn):\n",
    "    normalized_llm = np.array(llm_attn, dtype='float32').reshape(1, -1)\n",
    "    normalized_human = softmax_transform(human_attn)\n",
    "    return cosine_similarity(normalized_llm, normalized_human)[0][0]"
   ]
  },
  {
   "cell_type": "code",
   "execution_count": null,
   "id": "9077f276",
   "metadata": {},
   "outputs": [],
   "source": [
    "for name in model_names:\n",
    "    results_df[f'{name}_context_similarity'] = results_df.apply(lambda row: get_similarity(row[f'{name}_context_ave'], row[f'{name}_context_weights']), axis=1)\n",
    "    results_df[f'{name}_question_similarity'] = results_df.apply(lambda row: get_similarity(row[f'{name}_question_ave'], row[f'{name}_question_weights']), axis=1)\n",
    "    results_df[f'{name}_context_length'] = results_df['context'].apply(lambda x: len(x))\n",
    "    results_df[f'{name}_question_length'] = results_df['question'].apply(lambda x: len(x))\n",
    "    results_df[f'{name}_context_attention'] = results_df.apply(lambda row: sum(row[f'{name}_context_ave']) / sum(row[f'{name}_total_ave']), axis=1)\n",
    "    results_df[f'{name}_question_attention'] = results_df.apply(lambda row: sum(row[f'{name}_question_ave']) / sum(row[f'{name}_total_ave']), axis=1)"
   ]
  },
  {
   "cell_type": "code",
   "execution_count": null,
   "id": "15ce646e",
   "metadata": {},
   "outputs": [],
   "source": [
    "context_corrs = [0, 0, 0, 0]\n",
    "question_corrs = [0, 0, 0, 0]\n",
    "\n",
    "for i in range(len(model_names)):\n",
    "    name = model_names[i]\n",
    "    context_corrs[i] = results_df[f'{name}_context_similarity'].corr(results_df[f'{name}_context_length'])\n",
    "    question_corrs[i] = results_df[f'{name}_question_similarity'].corr(results_df[f'{name}_question_length'])"
   ]
  },
  {
   "cell_type": "code",
   "execution_count": null,
   "id": "03a9c24f",
   "metadata": {},
   "outputs": [],
   "source": [
    "answer_dfs = []\n",
    "instruction_dfs = []\n",
    "non_hallu_dfs = results_df\n",
    "\n",
    "for name in model_names:\n",
    "    answer_dfs.append(results_df[results_df[f'{name}_hallucination_type'] == \"answer\"])\n",
    "    instruction_dfs.append(results_df[results_df[f'{name}_hallucination_type'] == \"instruction\"])\n",
    "    non_hallu_dfs = non_hallu_dfs[results_df[f'{name}_hallucinated'] == False]\n",
    "\n",
    "    print(results_df[results_df[f'{name}_hallucination_type'] == \"answer\"].index)\n",
    "    print(results_df[results_df[f'{name}_hallucination_type'] == \"instruction\"].index)\n",
    "    print(non_hallu_dfs[results_df[f'{name}_hallucinated'] == False].index)"
   ]
  },
  {
   "cell_type": "code",
   "execution_count": null,
   "id": "a29c72ed",
   "metadata": {},
   "outputs": [],
   "source": [
    "hallu_count = []\n",
    "\n",
    "for i in range(4):\n",
    "    hallu_count.append([[0, 0, 0, 0], [0, 0, 0, 0]])\n",
    "\n",
    "for i in range(4):\n",
    "    for y in range(len(answer_dfs)):\n",
    "        name = model_names[y]\n",
    "        ans_df = answer_dfs[y]\n",
    "        temp_df = ans_df[ans_df['type'] == i]\n",
    "        ins_df = instruction_dfs[y]\n",
    "        temp2_df = ins_df[ins_df['type'] == i]\n",
    "\n",
    "        if not temp_df.empty:\n",
    "            hallu_count[y][0][i] += temp_df.shape[0]\n",
    "\n",
    "        if not temp2_df.empty:\n",
    "            hallu_count[y][1][i] += temp2_df.shape[0]"
   ]
  },
  {
   "cell_type": "code",
   "execution_count": null,
   "id": "f3039668",
   "metadata": {},
   "outputs": [],
   "source": [
    "for y in range(len(answer_dfs)):\n",
    "    for i in range(4):\n",
    "        name = model_names[y]\n",
    "        print(f\"{name} (Type: {i}): {hallu_count[y][0][i]} | {hallu_count[y][1][i]}\")"
   ]
  },
  {
   "cell_type": "code",
   "execution_count": null,
   "id": "9f09c3e8",
   "metadata": {},
   "outputs": [],
   "source": [
    "stats_df = pd.DataFrame({\n",
    "    \"Model\": [],\n",
    "    \"type\": [],\n",
    "    \"Answer\": [],\n",
    "    \"Instruction\": [],\n",
    "    \"Total\": []\n",
    "})\n",
    "\n",
    "for y in range(len(answer_dfs)):\n",
    "    for i in range(4):\n",
    "        name = model_names[y]\n",
    "\n",
    "        stats_df = pd.concat(\n",
    "            [stats_df, pd.DataFrame({\n",
    "                \"Model\": [name],\n",
    "                \"type\": [i],\n",
    "                \"Answer\": [hallu_count[y][0][i]],\n",
    "                \"Instruction\": [hallu_count[y][1][i]],\n",
    "                \"Total\": [hallu_count[y][0][i] + hallu_count[y][1][i]]\n",
    "            })],\n",
    "            ignore_index=True\n",
    "        )\n",
    "\n",
    "stats_df = stats_df.astype(\n",
    "    {\n",
    "        \"Model\": \"string\",\n",
    "        \"type\": \"int32\",\n",
    "        \"Answer\": \"int32\",\n",
    "        \"Instruction\": \"int32\",\n",
    "        \"Total\": \"int32\"\n",
    "    }\n",
    ")\n",
    "\n",
    "stats_df"
   ]
  },
  {
   "cell_type": "code",
   "execution_count": null,
   "id": "2f75c52b",
   "metadata": {},
   "outputs": [],
   "source": [
    "grouped_by_model = (stats_df.groupby([\"Model\"]))[[\"Answer\", \"Instruction\", \"Total\"]].sum().reset_index()\n",
    "grouped_by_model[\"Answer\"] = grouped_by_model[\"Answer\"].apply(lambda x: x / 80.0)\n",
    "grouped_by_model[\"Total\"] = grouped_by_model[\"Total\"].apply(lambda x: x / 80.0)\n",
    "grouped_by_model[\"Instruction\"] = grouped_by_model[\"Instruction\"].apply(lambda x: x / 80.0)\n",
    "grouped_by_model.to_latex()"
   ]
  },
  {
   "cell_type": "code",
   "execution_count": null,
   "id": "a9397080",
   "metadata": {},
   "outputs": [],
   "source": [
    "def rename(df, name):\n",
    "    rename_dict = dict()\n",
    "    rename_dict[f\"{name}_context_attention\"] = \"context_attention\"\n",
    "    rename_dict[f\"{name}_question_attention\"] = \"question_attention\"\n",
    "    rename_dict[f\"{name}_context_similarity\"] = \"context_similarity\"\n",
    "    rename_dict[f\"{name}_question_similarity\"] = \"question_similarity\"\n",
    "    return df.rename(columns=rename_dict)"
   ]
  },
  {
   "cell_type": "code",
   "execution_count": null,
   "id": "ec28983f",
   "metadata": {},
   "outputs": [],
   "source": [
    "# Get all grouped types\n",
    "answer_hallu_types = []\n",
    "instruction_hallu_types = []\n",
    "non_hallu_types = []\n",
    "\n",
    "for i in range(4):\n",
    "    answer_hallu_types.append(pd.DataFrame({\"context_attention\": [], \n",
    "                                            \"question_attention\": [],\n",
    "                                            \"context_similarity\": [],\n",
    "                                            \"question_similarity\": []}))\n",
    "    instruction_hallu_types.append(pd.DataFrame({\"context_attention\": [], \n",
    "                                            \"question_attention\": [],\n",
    "                                            \"context_similarity\": [],\n",
    "                                            \"question_similarity\": []}))\n",
    "    non_hallu_types.append(pd.DataFrame({\"context_attention\": [], \n",
    "                                            \"question_attention\": [],\n",
    "                                            \"context_similarity\": [],\n",
    "                                            \"question_similarity\": []}))\n",
    "\n",
    "for i in range(4):\n",
    "    for y in range(len(answer_dfs)):\n",
    "        name = model_names[y]\n",
    "        var = pd.DataFrame({\"context_attention\": [], \n",
    "                    \"question_attention\": [],\n",
    "                    \"context_similarity\": [],\n",
    "                    \"question_similarity\": []})\n",
    "\n",
    "        ans_df = answer_dfs[y]\n",
    "        temp_df = ans_df[ans_df['type'] == i]\n",
    "\n",
    "        if not temp_df.empty:\n",
    "            answer_hallu_types[i] = pd.concat(\n",
    "                [answer_hallu_types[i], rename(df=temp_df, name=name)],\n",
    "                ignore_index=True\n",
    "            )\n",
    "\n",
    "    for y in range(len(instruction_dfs)):\n",
    "        name = model_names[y]\n",
    "        var = pd.DataFrame({\"context_attention\": [], \n",
    "                    \"question_attention\": [],\n",
    "                    \"context_similarity\": [],\n",
    "                    \"question_similarity\": []})\n",
    "\n",
    "        ins_df = instruction_dfs[y]\n",
    "        temp_df = ins_df[ins_df['type'] == i]\n",
    "\n",
    "        if not temp_df.empty:\n",
    "            instruction_hallu_types[i] = pd.concat(\n",
    "                [instruction_hallu_types[i], rename(df=temp_df, name=name)],\n",
    "                ignore_index=True\n",
    "            )\n",
    "\n",
    "    for name in model_names:\n",
    "        var = pd.DataFrame({\"context_attention\": [], \n",
    "                    \"question_attention\": [],\n",
    "                    \"context_similarity\": [],\n",
    "                    \"question_similarity\": []})\n",
    "\n",
    "        non_df = non_hallu_dfs\n",
    "        temp_df = non_df[non_df['type'] == i]\n",
    "\n",
    "        if not temp_df.empty:\n",
    "            non_hallu_types[i] = pd.concat(\n",
    "                [non_hallu_types[i], rename(df=temp_df, name=name)],\n",
    "                ignore_index=True\n",
    "            )"
   ]
  },
  {
   "cell_type": "code",
   "execution_count": null,
   "id": "e686a7f0",
   "metadata": {},
   "outputs": [],
   "source": [
    "for i in range(4):\n",
    "    group1 = np.array(answer_hallu_types[i]['context_attention'].dropna())\n",
    "    group2 = np.array(non_hallu_types[i]['context_attention'].dropna())\n",
    "\n",
    "    # Independent t-test\n",
    "    t_stat, p_val = stats.ttest_ind(group1, group2)\n",
    "\n",
    "    print(\"t-statistic:\", t_stat)\n",
    "    print(\"p-value:\", p_val)\n",
    "\n",
    "    if p_val < 0.05:\n",
    "        print(\"✅ Significant difference between means\")\n",
    "    else:\n",
    "        print(\"❌ No significant difference between means\")\n",
    "\n",
    "    print()"
   ]
  },
  {
   "cell_type": "code",
   "execution_count": null,
   "id": "e531fe95",
   "metadata": {},
   "outputs": [],
   "source": [
    "for i in range(4):\n",
    "    group1 = np.array(answer_hallu_types[i]['question_attention'].dropna())\n",
    "    group2 = np.array(non_hallu_types[i]['question_attention'].dropna())\n",
    "\n",
    "    # Independent t-test\n",
    "    t_stat, p_val = stats.ttest_ind(group1, group2)\n",
    "\n",
    "    print(\"t-statistic:\", t_stat)\n",
    "    print(\"p-value:\", p_val)\n",
    "\n",
    "    if p_val < 0.05:\n",
    "        print(\"✅ Significant difference between means\")\n",
    "    else:\n",
    "        print(\"❌ No significant difference between means\")\n",
    "\n",
    "    print()"
   ]
  },
  {
   "cell_type": "code",
   "execution_count": null,
   "id": "18ba9c20",
   "metadata": {},
   "outputs": [],
   "source": [
    "for i in range(4):\n",
    "    group1 = np.array(answer_hallu_types[i]['context_similarity'].dropna())\n",
    "    group2 = np.array(non_hallu_types[i]['context_similarity'].dropna())\n",
    "\n",
    "    # Independent t-test\n",
    "    t_stat, p_val = stats.ttest_ind(group1, group2)\n",
    "\n",
    "    print(\"t-statistic:\", t_stat)\n",
    "    print(\"p-value:\", p_val)\n",
    "\n",
    "    if p_val < 0.05:\n",
    "        print(\"✅ Significant difference between means\")\n",
    "    else:\n",
    "        print(\"❌ No significant difference between means\")\n",
    "\n",
    "    print()"
   ]
  },
  {
   "cell_type": "code",
   "execution_count": null,
   "id": "88a5445d",
   "metadata": {},
   "outputs": [],
   "source": [
    "for i in range(4):\n",
    "    group1 = np.array(answer_hallu_types[i]['question_similarity'].dropna())\n",
    "    group2 = np.array(non_hallu_types[i]['question_similarity'].dropna())\n",
    "\n",
    "    # Independent t-test\n",
    "    t_stat, p_val = stats.ttest_ind(group1, group2)\n",
    "\n",
    "    print(\"t-statistic:\", t_stat)\n",
    "    print(\"p-value:\", p_val)\n",
    "\n",
    "    if p_val < 0.05:\n",
    "        print(\"✅ Significant difference between means\")\n",
    "    else:\n",
    "        print(\"❌ No significant difference between means\")\n",
    "\n",
    "    print()"
   ]
  }
 ],
 "metadata": {
  "kernelspec": {
   "display_name": "Python 3",
   "language": "python",
   "name": "python3"
  },
  "language_info": {
   "codemirror_mode": {
    "name": "ipython",
    "version": 3
   },
   "file_extension": ".py",
   "mimetype": "text/x-python",
   "name": "python",
   "nbconvert_exporter": "python",
   "pygments_lexer": "ipython3",
   "version": "3.10.0"
  }
 },
 "nbformat": 4,
 "nbformat_minor": 5
}
